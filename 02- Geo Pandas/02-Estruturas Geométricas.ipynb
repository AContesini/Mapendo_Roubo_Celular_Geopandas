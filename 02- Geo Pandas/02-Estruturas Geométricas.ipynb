{
 "cells": [
  {
   "cell_type": "markdown",
   "id": "03cc3261",
   "metadata": {},
   "source": [
    "<h1>Estruturas Geométricas</h1>\n",
    "<p>Nesta abordaremos sobre elementos geométricos, onde terão uma breve apresentação sobre funções e atributos, bem como sua aplicação dentro de um mapa de geolocalização. Iremos realizar cálculos de áreas e operações como união, interseção e diferença para melhor compreender a disposição espacial dos dados.</p>"
   ]
  },
  {
   "cell_type": "markdown",
   "id": "49fd5efd",
   "metadata": {},
   "source": [
    "\n",
    "<h1> 1.Objetos Geométricos em Dados Espaciais</h1>\n",
    "\n",
    "<p>Ao lidarmos com dados espaciais, trabalhamos com três elementos fundamentais:Points, Lines e Polygons Nesse contexto, utilizamos a biblioteca Shapely, que é uma poderosa ferramenta para lidar com esses objetos geométricos.</p>\n",
    "\n",
    "<p><h4 style=\"color: #B3B3B3;\">Os objetos geométricos são representados por coordenadas:</h4></p>\n",
    "\n",
    "<ul>\n",
    "  <li><strong>Points:</strong> representam localizações específicas no espaço, podendo ser em 2D (x, y) ou 3D (x, y, z);</li>\n",
    "  <li><strong>Lines:</strong> são sequências de pontos que formam trajetos ou caminhos. Para criar uma linha, são necessários pelo menos dois pontos;</li>\n",
    "  <li><strong>Polygons :</strong> são áreas preenchidas no espaço, formadas por pelo menos três pontos que indicam os vértices externos do polígono. Os polígonos também podem conter aberturas internas, conhecidas como buracos.</li>\n",
    "</ul>\n",
    "\n",
    "<p>Com a biblioteca Shapely, podemos realizar cálculos de áreas, tamanhos e limites dos objetos geométricos. Além disso, a Shapely nos permite realizar operações complexas, como união, interseção, diferença e até cálculos de distância entre os objetos. Também podemos realizar consultas espaciais, como verificar se objetos se cruzam, tocam ou estão dentro de outros.</p>\n",
    "\n",
    "<p>Se você deseja utilizar a biblioteca Shapely, basta instalá-la em seu ambiente Python usando o seguinte comando:</p>\n",
    "\n",
    "<pre><code>!pip install shapely</code></pre>\n",
    "\n",
    "\n",
    "\n"
   ]
  },
  {
   "cell_type": "code",
   "execution_count": 1,
   "id": "28581ed0",
   "metadata": {},
   "outputs": [],
   "source": [
    "#importando Objetos geometricos\n",
    "from shapely.geometry import Point ,LineString,Polygon"
   ]
  },
  {
   "cell_type": "markdown",
   "id": "abe14026",
   "metadata": {},
   "source": [
    "\n",
    "<h2>1.1 Ponto (Point)</h2>\n",
    "\n",
    "<p>O Ponto (Point) é uma forma de representar coordenadas em espaços 2D (x, y) e também em espaços 3D (x, y, z). Podemos utilizá-lo para marcar pontos de interesse no mapa, localizar residências ou até mesmo mapear ocorrências de roubo.</p>\n",
    "\n",
    "para cria o ponto sera usado Point()\n"
   ]
  },
  {
   "cell_type": "code",
   "execution_count": 2,
   "id": "71a31d98",
   "metadata": {},
   "outputs": [],
   "source": [
    "#criando uma Geometria tipo ponto\n",
    "ponto = Point(5,10)"
   ]
  },
  {
   "cell_type": "code",
   "execution_count": 3,
   "id": "f347e3d0",
   "metadata": {},
   "outputs": [
    {
     "data": {
      "text/plain": [
       "shapely.geometry.point.Point"
      ]
     },
     "execution_count": 3,
     "metadata": {},
     "output_type": "execute_result"
    }
   ],
   "source": [
    "type(ponto)\n"
   ]
  },
  {
   "cell_type": "code",
   "execution_count": 4,
   "id": "64abf07b",
   "metadata": {},
   "outputs": [
    {
     "data": {
      "image/svg+xml": [
       "<svg xmlns=\"http://www.w3.org/2000/svg\" xmlns:xlink=\"http://www.w3.org/1999/xlink\" width=\"100.0\" height=\"100.0\" viewBox=\"4.0 9.0 2.0 2.0\" preserveAspectRatio=\"xMinYMin meet\"><g transform=\"matrix(1,0,0,-1,0,20.0)\"><circle cx=\"5.0\" cy=\"10.0\" r=\"0.06\" stroke=\"#555555\" stroke-width=\"0.02\" fill=\"#66cc99\" opacity=\"0.6\" /></g></svg>"
      ],
      "text/plain": [
       "<POINT (5 10)>"
      ]
     },
     "execution_count": 4,
     "metadata": {},
     "output_type": "execute_result"
    }
   ],
   "source": [
    "ponto"
   ]
  },
  {
   "cell_type": "markdown",
   "id": "0e78013b",
   "metadata": {},
   "source": [
    "<h3>1.1.1 Pontos - Atributos e Funções</h3>\n",
    "<p>Uma das funções do tipo Ponto é a capacidade de extrair coordenadas e a possibilidade de calcular distâncias. Podemos obter coordenadas x e y de diferentes maneiras:</p>\n",
    "\n",
    "\n"
   ]
  },
  {
   "cell_type": "code",
   "execution_count": 5,
   "id": "15a667c1",
   "metadata": {},
   "outputs": [
    {
     "data": {
      "text/plain": [
       "[(5.0, 10.0)]"
      ]
     },
     "execution_count": 5,
     "metadata": {},
     "output_type": "execute_result"
    }
   ],
   "source": [
    "#Função coords\n",
    "list(ponto.coords)"
   ]
  },
  {
   "cell_type": "code",
   "execution_count": 6,
   "id": "94475323",
   "metadata": {},
   "outputs": [
    {
     "name": "stdout",
     "output_type": "stream",
     "text": [
      "x = 5.0 \n",
      "y = 10.0\n"
     ]
    }
   ],
   "source": [
    "#ler cordenadas separadamente\n",
    "x = ponto.x\n",
    "y = ponto.y\n",
    "print('x =',x ,\n",
    "      '\\ny =',y)"
   ]
  },
  {
   "cell_type": "code",
   "execution_count": 7,
   "id": "a415fac4",
   "metadata": {},
   "outputs": [
    {
     "name": "stdout",
     "output_type": "stream",
     "text": [
      "A ditancia entre 1 e 2 é : 5.0 km\n"
     ]
    }
   ],
   "source": [
    "#calcular distancia  entre dois pontos\n",
    "ponto_1 = Point(2,3)\n",
    "ponto_2 = Point(5,7)\n",
    "\n",
    "distancia = ponto_1.distance(ponto_2)\n",
    "\n",
    "print('A ditancia entre 1 e 2 é :',distancia,'km')\n"
   ]
  },
  {
   "cell_type": "markdown",
   "id": "8b4a6619",
   "metadata": {},
   "source": [
    "<h2>1.2 Linhas (LineString)</h2>\n",
    "<p>Criar um objeto LineString é semelhante à criação de um objeto Point. Ao invés de usar uma única tupla de coordenadas, podemos construir uma linha com uma lista de Points ou um vetor de tuplas com as respectivas coordenadas. Isso nos permite definir uma sequência de pontos que formam a linha desejada, permitindo representar linhas mais complexas e curvas utilizando vários pontos em sequência.</p>"
   ]
  },
  {
   "cell_type": "code",
   "execution_count": 8,
   "id": "aa4d7d83",
   "metadata": {},
   "outputs": [],
   "source": [
    "#criar uma linha a partir de objetos pontos\n",
    "ponto_1 = Point(2,3)\n",
    "ponto_2 = Point(5,7)\n",
    "ponto_3 = Point(2,10)\n",
    "\n",
    "linha = LineString([ponto_1 , ponto_2, ponto_3])\n"
   ]
  },
  {
   "cell_type": "code",
   "execution_count": 9,
   "id": "31cba9fa",
   "metadata": {},
   "outputs": [
    {
     "data": {
      "image/svg+xml": [
       "<svg xmlns=\"http://www.w3.org/2000/svg\" xmlns:xlink=\"http://www.w3.org/1999/xlink\" width=\"100.0\" height=\"100.0\" viewBox=\"1.72 2.7199999999999998 3.5600000000000005 7.56\" preserveAspectRatio=\"xMinYMin meet\"><g transform=\"matrix(1,0,0,-1,0,13.0)\"><polyline fill=\"none\" stroke=\"#66cc99\" stroke-width=\"0.1512\" points=\"2.0,3.0 5.0,7.0 2.0,10.0\" opacity=\"0.8\" /></g></svg>"
      ],
      "text/plain": [
       "<LINESTRING (2 3, 5 7, 2 10)>"
      ]
     },
     "execution_count": 9,
     "metadata": {},
     "output_type": "execute_result"
    }
   ],
   "source": [
    "linha"
   ]
  },
  {
   "cell_type": "code",
   "execution_count": 10,
   "id": "bb9e0903",
   "metadata": {},
   "outputs": [
    {
     "name": "stdout",
     "output_type": "stream",
     "text": [
      "LINESTRING (2 3, 5 7, 2 10)\n"
     ]
    }
   ],
   "source": [
    "print(linha)"
   ]
  },
  {
   "cell_type": "code",
   "execution_count": 11,
   "id": "5e20d60f",
   "metadata": {},
   "outputs": [
    {
     "data": {
      "text/plain": [
       "shapely.geometry.linestring.LineString"
      ]
     },
     "execution_count": 11,
     "metadata": {},
     "output_type": "execute_result"
    }
   ],
   "source": [
    "type(linha)"
   ]
  },
  {
   "cell_type": "markdown",
   "id": "cc6bc5da",
   "metadata": {},
   "source": [
    "<h3>1.1.2 Linha - Atributos e Funções</h3>\n",
    "\n",
    "<p>O objeto LineString possui diversos atributos e funções internas:</p>\n",
    "<ul>\n",
    "  \n",
    "  <li>Podemos utilizá-lo para extrair as coordenadas.</li>\n",
    "  <li>Calcular o tamanho da linha também é uma operação possível.</li>\n",
    "  <li>E, por fim, é possível obter o ponto médio (centroide) da linha.</li>\n",
    "</ul>\n",
    "<p>Para mais informações, consulte a <a href=\"https://shapely.readthedocs.io/en/latest/manual.html#linestrings\">documentação</a>.</p>\n",
    "\n",
    "<p>Pode-se também fazer a extração da LineString similar ao Point .</p>"
   ]
  },
  {
   "cell_type": "code",
   "execution_count": 12,
   "id": "a9df3f7f",
   "metadata": {},
   "outputs": [
    {
     "data": {
      "text/plain": [
       "[(2.0, 3.0), (5.0, 7.0), (2.0, 10.0)]"
      ]
     },
     "execution_count": 12,
     "metadata": {},
     "output_type": "execute_result"
    }
   ],
   "source": [
    "#utilizando a função Coords\n",
    "list(linha.coords)"
   ]
  },
  {
   "cell_type": "code",
   "execution_count": 13,
   "id": "893b1897",
   "metadata": {},
   "outputs": [
    {
     "name": "stdout",
     "output_type": "stream",
     "text": [
      "X = [2.0, 5.0, 2.0] \n",
      "Y = [3.0, 7.0, 10.0]\n"
     ]
    }
   ],
   "source": [
    "# lendo x e y separadamente\n",
    "cordenadas_x = list(linha.xy[0])\n",
    "cordenadas_Y = list(linha.xy[1])\n",
    "print('X =' ,cordenadas_x ,\n",
    "      '\\nY =',cordenadas_Y)"
   ]
  },
  {
   "cell_type": "markdown",
   "id": "04fb01d4",
   "metadata": {},
   "source": [
    "Pode-se obter o comprimento da linha e o ponto central (centroide) diretamente do objeto LineString."
   ]
  },
  {
   "cell_type": "code",
   "execution_count": 14,
   "id": "424f7a8b",
   "metadata": {},
   "outputs": [
    {
     "data": {
      "text/plain": [
       "9.242640687119284"
      ]
     },
     "execution_count": 14,
     "metadata": {},
     "output_type": "execute_result"
    }
   ],
   "source": [
    "#obtendo comprimeto \n",
    "linha.length"
   ]
  },
  {
   "cell_type": "code",
   "execution_count": 15,
   "id": "a2049c91",
   "metadata": {},
   "outputs": [
    {
     "data": {
      "image/svg+xml": [
       "<svg xmlns=\"http://www.w3.org/2000/svg\" xmlns:xlink=\"http://www.w3.org/1999/xlink\" width=\"100.0\" height=\"100.0\" viewBox=\"2.5000000000000004 5.606601717798214 1.9999999999999996 2.0\" preserveAspectRatio=\"xMinYMin meet\"><g transform=\"matrix(1,0,0,-1,0,13.213203435596428)\"><circle cx=\"3.5000000000000004\" cy=\"6.606601717798214\" r=\"0.06\" stroke=\"#555555\" stroke-width=\"0.02\" fill=\"#66cc99\" opacity=\"0.6\" /></g></svg>"
      ],
      "text/plain": [
       "<POINT (3.5 6.607)>"
      ]
     },
     "execution_count": 15,
     "metadata": {},
     "output_type": "execute_result"
    }
   ],
   "source": [
    "#obtendo centro (centroid)\n",
    "linha.centroid"
   ]
  },
  {
   "cell_type": "code",
   "execution_count": 16,
   "id": "2c06b41d",
   "metadata": {},
   "outputs": [
    {
     "name": "stdout",
     "output_type": "stream",
     "text": [
      "POINT (3.5000000000000004 6.606601717798214)\n"
     ]
    }
   ],
   "source": [
    "print(linha.centroid)"
   ]
  },
  {
   "cell_type": "markdown",
   "id": "81495a33",
   "metadata": {},
   "source": [
    "\n",
    "<h2>1.3 Polígono (Polygon)</h2>\n",
    "\n",
    "<p>É possível construir um objeto Polygon seguindo a mesma lógica do Point e LineString, porém a criação do Polygon exige uma sequência de coordenadas.</p>\n",
    "\n",
    "<p>Para formar um polígono, são necessárias, no mínimo, três coordenadas.</p>\n"
   ]
  },
  {
   "cell_type": "code",
   "execution_count": 17,
   "id": "9d61c64b",
   "metadata": {},
   "outputs": [],
   "source": [
    "#Criar um polygon passando as cordenadas\n",
    "poly = Polygon ([(2,3),(5,7),(2,10)])\n"
   ]
  },
  {
   "cell_type": "markdown",
   "id": "6870ded9",
   "metadata": {},
   "source": [
    "<p>Obs: no Python não é necessário repetir a última coordenada ao final da lista como em outras linguagens.</p>\n",
    "\n"
   ]
  },
  {
   "cell_type": "code",
   "execution_count": 18,
   "id": "130ce12e",
   "metadata": {},
   "outputs": [
    {
     "data": {
      "image/svg+xml": [
       "<svg xmlns=\"http://www.w3.org/2000/svg\" xmlns:xlink=\"http://www.w3.org/1999/xlink\" width=\"100.0\" height=\"100.0\" viewBox=\"1.72 2.7199999999999998 3.5600000000000005 7.56\" preserveAspectRatio=\"xMinYMin meet\"><g transform=\"matrix(1,0,0,-1,0,13.0)\"><path fill-rule=\"evenodd\" fill=\"#66cc99\" stroke=\"#555555\" stroke-width=\"0.1512\" opacity=\"0.6\" d=\"M 2.0,3.0 L 5.0,7.0 L 2.0,10.0 L 2.0,3.0 z\" /></g></svg>"
      ],
      "text/plain": [
       "<POLYGON ((2 3, 5 7, 2 10, 2 3))>"
      ]
     },
     "execution_count": 18,
     "metadata": {},
     "output_type": "execute_result"
    }
   ],
   "source": [
    "poly"
   ]
  },
  {
   "cell_type": "code",
   "execution_count": 19,
   "id": "40708088",
   "metadata": {},
   "outputs": [
    {
     "name": "stdout",
     "output_type": "stream",
     "text": [
      "POLYGON ((2 3, 5 7, 2 10, 2 3))\n"
     ]
    }
   ],
   "source": [
    "print(poly)"
   ]
  },
  {
   "cell_type": "code",
   "execution_count": 20,
   "id": "0c988923",
   "metadata": {},
   "outputs": [
    {
     "data": {
      "text/plain": [
       "shapely.geometry.polygon.Polygon"
      ]
     },
     "execution_count": 20,
     "metadata": {},
     "output_type": "execute_result"
    }
   ],
   "source": [
    "type(poly)"
   ]
  },
  {
   "cell_type": "markdown",
   "id": "903e0055",
   "metadata": {},
   "source": [
    "\n",
    "<h3>1.3.1 Polígonos - Propriedades e métodos</h3>\n",
    "\n",
    "<p>É possível acessar várias funções diretamente do objeto Polygon, que são úteis para várias tarefas e análises, como: obtenção de área, centróide, caixa delimitadora, o exterior e o perímetro (tamanho externo).</p>\n",
    "\n",
    "<p>A seguir, estão alguns atributos disponíveis e como acessá-los:</p>\n"
   ]
  },
  {
   "cell_type": "code",
   "execution_count": 21,
   "id": "b395b0bc",
   "metadata": {},
   "outputs": [
    {
     "data": {
      "text/plain": [
       "[(2.0, 3.0), (5.0, 7.0), (2.0, 10.0), (2.0, 3.0)]"
      ]
     },
     "execution_count": 21,
     "metadata": {},
     "output_type": "execute_result"
    }
   ],
   "source": [
    "#cordenadas dos poligonos\n",
    "list(poly.exterior.coords)"
   ]
  },
  {
   "cell_type": "code",
   "execution_count": 22,
   "id": "c70b6119",
   "metadata": {},
   "outputs": [
    {
     "data": {
      "text/plain": [
       "shapely.geometry.polygon.Polygon"
      ]
     },
     "execution_count": 22,
     "metadata": {},
     "output_type": "execute_result"
    }
   ],
   "source": [
    "type(poly)"
   ]
  },
  {
   "cell_type": "code",
   "execution_count": 23,
   "id": "b65cfb84",
   "metadata": {},
   "outputs": [
    {
     "name": "stdout",
     "output_type": "stream",
     "text": [
      "Area =  10.5\n"
     ]
    }
   ],
   "source": [
    "#calcular a Área\n",
    "poly_area = poly.area\n",
    "print(\"Area = \",poly_area)"
   ]
  },
  {
   "cell_type": "code",
   "execution_count": 24,
   "id": "6013faaf",
   "metadata": {},
   "outputs": [
    {
     "name": "stdout",
     "output_type": "stream",
     "text": [
      "Centróide =  POINT (3 6.666666666666667)\n"
     ]
    }
   ],
   "source": [
    "#Obter centroid do polígono\n",
    "poly_centro = poly.centroid\n",
    "print('Centróide = ',poly_centro)"
   ]
  },
  {
   "cell_type": "code",
   "execution_count": 25,
   "id": "9a0f9ed8",
   "metadata": {},
   "outputs": [
    {
     "data": {
      "text/plain": [
       "(2.0, 3.0, 5.0, 10.0)"
      ]
     },
     "execution_count": 25,
     "metadata": {},
     "output_type": "execute_result"
    }
   ],
   "source": [
    "#Cordenadas do bounding box (extremidades do polígono)\n",
    "poly.bounds"
   ]
  },
  {
   "cell_type": "code",
   "execution_count": 26,
   "id": "c71a8e94",
   "metadata": {},
   "outputs": [
    {
     "data": {
      "image/svg+xml": [
       "<svg xmlns=\"http://www.w3.org/2000/svg\" xmlns:xlink=\"http://www.w3.org/1999/xlink\" width=\"100.0\" height=\"100.0\" viewBox=\"1.72 2.7199999999999998 3.5600000000000005 7.56\" preserveAspectRatio=\"xMinYMin meet\"><g transform=\"matrix(1,0,0,-1,0,13.0)\"><polyline fill=\"none\" stroke=\"#66cc99\" stroke-width=\"0.1512\" points=\"2.0,3.0 5.0,7.0 2.0,10.0 2.0,3.0\" opacity=\"0.8\" /></g></svg>"
      ],
      "text/plain": [
       "<LINEARRING (2 3, 5 7, 2 10, 2 3)>"
      ]
     },
     "execution_count": 26,
     "metadata": {},
     "output_type": "execute_result"
    }
   ],
   "source": [
    "#coordenadas da linha exterior \n",
    "poly.exterior"
   ]
  },
  {
   "cell_type": "code",
   "execution_count": 27,
   "id": "09214ef9",
   "metadata": {},
   "outputs": [
    {
     "name": "stdout",
     "output_type": "stream",
     "text": [
      "Exterior LINEARRING (2 3, 5 7, 2 10, 2 3)\n"
     ]
    }
   ],
   "source": [
    "poly_exterior = poly.exterior\n",
    "print('Exterior',poly_exterior)"
   ]
  },
  {
   "cell_type": "code",
   "execution_count": 28,
   "id": "185f139d",
   "metadata": {},
   "outputs": [
    {
     "name": "stdout",
     "output_type": "stream",
     "text": [
      "O comprimento exterior é : 16.242640687119284\n"
     ]
    }
   ],
   "source": [
    "#tamanho da linhab exterior\n",
    "poly_E_length = poly.exterior.length\n",
    "\n",
    "print(\"O comprimento exterior é :\",poly_E_length)"
   ]
  },
  {
   "cell_type": "markdown",
   "id": "a4c9dd77",
   "metadata": {},
   "source": [
    "# 2. Operações basicas entre geometrias\n"
   ]
  },
  {
   "cell_type": "code",
   "execution_count": 29,
   "id": "b221ff40",
   "metadata": {},
   "outputs": [
    {
     "data": {
      "image/svg+xml": [
       "<svg xmlns=\"http://www.w3.org/2000/svg\" xmlns:xlink=\"http://www.w3.org/1999/xlink\" width=\"100.0\" height=\"100.0\" viewBox=\"0.92 -0.08 2.16 2.16\" preserveAspectRatio=\"xMinYMin meet\"><g transform=\"matrix(1,0,0,-1,0,2.0)\"><path fill-rule=\"evenodd\" fill=\"#66cc99\" stroke=\"#555555\" stroke-width=\"0.0432\" opacity=\"0.6\" d=\"M 3.0,1.0 L 2.995184726672197,0.9019828596704393 L 2.9807852804032304,0.8049096779838718 L 2.9569403357322086,0.7097153227455377 L 2.923879532511287,0.6173165676349102 L 2.881921264348355,0.5286032631740023 L 2.8314696123025453,0.4444297669803978 L 2.773010453362737,0.3656067158363545 L 2.7071067811865475,0.2928932188134524 L 2.6343932841636457,0.22698954663726312 L 2.555570233019602,0.16853038769745476 L 2.471396736825998,0.11807873565164506 L 2.3826834323650896,0.07612046748871326 L 2.2902846772544625,0.043059664267791065 L 2.1950903220161284,0.01921471959676957 L 2.098017140329561,0.004815273327803182 L 2.0,0.0 L 1.9019828596704393,0.004815273327803071 L 1.8049096779838718,0.01921471959676957 L 1.709715322745538,0.043059664267791065 L 1.6173165676349104,0.07612046748871326 L 1.5286032631740023,0.11807873565164495 L 1.444429766980398,0.16853038769745465 L 1.3656067158363547,0.2269895466372629 L 1.2928932188134525,0.2928932188134524 L 1.2269895466372631,0.3656067158363545 L 1.1685303876974547,0.4444297669803978 L 1.118078735651645,0.5286032631740022 L 1.0761204674887133,0.6173165676349102 L 1.0430596642677912,0.7097153227455376 L 1.0192147195967696,0.8049096779838714 L 1.0048152733278033,0.9019828596704391 L 1.0,0.9999999999999999 L 1.004815273327803,1.0980171403295607 L 1.0192147195967696,1.1950903220161284 L 1.043059664267791,1.290284677254462 L 1.076120467488713,1.3826834323650896 L 1.118078735651645,1.4713967368259977 L 1.1685303876974547,1.555570233019602 L 1.226989546637263,1.6343932841636453 L 1.2928932188134523,1.7071067811865475 L 1.365606715836354,1.7730104533627367 L 1.4444297669803978,1.8314696123025453 L 1.528603263174002,1.881921264348355 L 1.6173165676349097,1.9238795325112865 L 1.7097153227455375,1.9569403357322088 L 1.8049096779838714,1.9807852804032304 L 1.9019828596704396,1.995184726672197 L 1.9999999999999998,2.0 L 2.09801714032956,1.995184726672197 L 2.1950903220161284,1.9807852804032304 L 2.290284677254462,1.956940335732209 L 2.38268343236509,1.9238795325112865 L 2.4713967368259975,1.881921264348355 L 2.5555702330196017,1.8314696123025453 L 2.6343932841636457,1.7730104533627369 L 2.7071067811865475,1.7071067811865477 L 2.7730104533627364,1.634393284163646 L 2.8314696123025453,1.5555702330196022 L 2.881921264348355,1.471396736825998 L 2.9238795325112865,1.3826834323650905 L 2.9569403357322086,1.2902846772544625 L 2.9807852804032304,1.1950903220161286 L 2.995184726672197,1.0980171403295604 L 3.0,1.0 z\" /></g></svg>"
      ],
      "text/plain": [
       "<POLYGON ((3 1, 2.995 0.902, 2.981 0.805, 2.957 0.71, 2.924 0.617, 2.882 0.5...>"
      ]
     },
     "execution_count": 29,
     "metadata": {},
     "output_type": "execute_result"
    }
   ],
   "source": [
    "#Criando 2 círculos\n",
    "circulo_1 = Point(1,1).buffer(1)\n",
    "circulo_2 = Point(2,1).buffer(1)\n",
    "\n",
    "circulo_2"
   ]
  },
  {
   "cell_type": "markdown",
   "id": "56844f63",
   "metadata": {},
   "source": [
    "veja os 2 cirulos com a biblioteca do matplotlib"
   ]
  },
  {
   "cell_type": "code",
   "execution_count": 30,
   "id": "db5c3901",
   "metadata": {},
   "outputs": [],
   "source": [
    "#importando a biblioteca matplotlib\n",
    "import matplotlib.pyplot as plt"
   ]
  },
  {
   "cell_type": "code",
   "execution_count": 31,
   "id": "9e31fea0",
   "metadata": {},
   "outputs": [
    {
     "data": {
      "image/png": "[encoded data removed]",
      "text/plain": [
       "<Figure size 640x480 with 1 Axes>"
      ]
     },
     "metadata": {},
     "output_type": "display_data"
    }
   ],
   "source": [
    "#plotar o círculo 1\n",
    "x,y= circulo_1.exterior.xy\n",
    "plt.plot(x,y)\n",
    "x,y= circulo_2.exterior.xy\n",
    "plt.plot(x,y)\n",
    "\n",
    "\n",
    "plt.show()"
   ]
  },
  {
   "cell_type": "markdown",
   "id": "e8a7704a",
   "metadata": {},
   "source": [
    "<h2>2.1 Interseção</h2>"
   ]
  },
  {
   "cell_type": "code",
   "execution_count": 32,
   "id": "26887b7b",
   "metadata": {},
   "outputs": [
    {
     "data": {
      "image/svg+xml": [
       "<svg xmlns=\"http://www.w3.org/2000/svg\" xmlns:xlink=\"http://www.w3.org/1999/xlink\" width=\"100.0\" height=\"100.0\" viewBox=\"0.9308178297460941 0.06604070157226961 1.138364340507812 1.8679185968554606\" preserveAspectRatio=\"xMinYMin meet\"><g transform=\"matrix(1,0,0,-1,0,2.0)\"><path fill-rule=\"evenodd\" fill=\"#66cc99\" stroke=\"#555555\" stroke-width=\"0.03735837193710921\" opacity=\"0.6\" d=\"M 1.995184726672197,0.9019828596704393 L 1.9807852804032304,0.8049096779838718 L 1.9569403357322088,0.7097153227455377 L 1.9238795325112867,0.6173165676349102 L 1.881921264348355,0.5286032631740023 L 1.8314696123025453,0.4444297669803978 L 1.7730104533627369,0.3656067158363545 L 1.7071067811865475,0.2928932188134524 L 1.6343932841636455,0.22698954663726312 L 1.5555702330196022,0.16853038769745476 L 1.5,0.13522287182617557 L 1.444429766980398,0.16853038769745465 L 1.3656067158363547,0.2269895466372629 L 1.2928932188134525,0.2928932188134524 L 1.2269895466372631,0.3656067158363545 L 1.1685303876974547,0.4444297669803978 L 1.118078735651645,0.5286032631740022 L 1.0761204674887133,0.6173165676349102 L 1.0430596642677912,0.7097153227455376 L 1.0192147195967696,0.8049096779838714 L 1.0048152733278033,0.9019828596704391 L 1.0,0.9999999999999999 L 1.004815273327803,1.0980171403295607 L 1.0192147195967696,1.1950903220161284 L 1.043059664267791,1.290284677254462 L 1.076120467488713,1.3826834323650896 L 1.118078735651645,1.4713967368259977 L 1.1685303876974547,1.555570233019602 L 1.226989546637263,1.6343932841636453 L 1.2928932188134523,1.7071067811865475 L 1.365606715836354,1.7730104533627367 L 1.4444297669803978,1.8314696123025453 L 1.4999999999999998,1.8647771281738243 L 1.5555702330196017,1.8314696123025453 L 1.6343932841636457,1.7730104533627369 L 1.7071067811865475,1.7071067811865477 L 1.7730104533627364,1.634393284163646 L 1.8314696123025453,1.5555702330196022 L 1.881921264348355,1.471396736825998 L 1.9238795325112865,1.3826834323650905 L 1.9569403357322088,1.2902846772544625 L 1.9807852804032304,1.1950903220161286 L 1.995184726672197,1.0980171403295604 L 2.0,1.0 L 1.995184726672197,0.9019828596704393 z\" /></g></svg>"
      ],
      "text/plain": [
       "<POLYGON ((1.995 0.902, 1.981 0.805, 1.957 0.71, 1.924 0.617, 1.882 0.529, 1...>"
      ]
     },
     "execution_count": 32,
     "metadata": {},
     "output_type": "execute_result"
    }
   ],
   "source": [
    "#Operação de interseção\n",
    "circulo_inter = circulo_1.intersection(circulo_2)\n",
    "circulo_inter"
   ]
  },
  {
   "cell_type": "markdown",
   "id": "7ff3dfe2",
   "metadata": {},
   "source": [
    "<h2>2.2 União</h2>\n",
    "    "
   ]
  },
  {
   "cell_type": "code",
   "execution_count": 33,
   "id": "53d1c82b",
   "metadata": {},
   "outputs": [
    {
     "data": {
      "image/svg+xml": [
       "<svg xmlns=\"http://www.w3.org/2000/svg\" xmlns:xlink=\"http://www.w3.org/1999/xlink\" width=\"100.0\" height=\"100.0\" viewBox=\"-0.12 -0.12 3.24 2.24\" preserveAspectRatio=\"xMinYMin meet\"><g transform=\"matrix(1,0,0,-1,0,2.0)\"><path fill-rule=\"evenodd\" fill=\"#66cc99\" stroke=\"#555555\" stroke-width=\"0.06480000000000001\" opacity=\"0.6\" d=\"M 1.471396736825998,0.11807873565164506 L 1.3826834323650898,0.07612046748871326 L 1.2902846772544623,0.043059664267791065 L 1.1950903220161284,0.01921471959676957 L 1.0980171403295609,0.004815273327803182 L 1.0,0.0 L 0.9019828596704393,0.004815273327803071 L 0.8049096779838718,0.01921471959676957 L 0.7097153227455378,0.043059664267791065 L 0.6173165676349103,0.07612046748871326 L 0.5286032631740023,0.11807873565164495 L 0.44442976698039804,0.16853038769745465 L 0.3656067158363546,0.2269895466372629 L 0.29289321881345254,0.2928932188134524 L 0.226989546637263,0.3656067158363545 L 0.16853038769745465,0.4444297669803978 L 0.11807873565164506,0.5286032631740022 L 0.07612046748871326,0.6173165676349102 L 0.043059664267791176,0.7097153227455376 L 0.01921471959676957,0.8049096779838714 L 0.004815273327803182,0.9019828596704391 L 0.0,0.9999999999999999 L 0.004815273327803071,1.0980171403295607 L 0.01921471959676957,1.1950903220161284 L 0.043059664267791065,1.290284677254462 L 0.07612046748871315,1.3826834323650896 L 0.11807873565164495,1.4713967368259977 L 0.16853038769745454,1.555570233019602 L 0.2269895466372629,1.6343932841636453 L 0.2928932188134523,1.7071067811865475 L 0.36560671583635407,1.7730104533627367 L 0.4444297669803978,1.8314696123025453 L 0.5286032631740021,1.881921264348355 L 0.6173165676349097,1.9238795325112865 L 0.7097153227455375,1.9569403357322088 L 0.8049096779838714,1.9807852804032304 L 0.9019828596704396,1.995184726672197 L 0.9999999999999998,2.0 L 1.09801714032956,1.995184726672197 L 1.1950903220161284,1.9807852804032304 L 1.290284677254462,1.956940335732209 L 1.38268343236509,1.9238795325112865 L 1.4713967368259975,1.881921264348355 L 1.4999999999999998,1.8647771281738243 L 1.528603263174002,1.881921264348355 L 1.6173165676349097,1.9238795325112865 L 1.7097153227455375,1.9569403357322088 L 1.8049096779838714,1.9807852804032304 L 1.9019828596704396,1.995184726672197 L 1.9999999999999998,2.0 L 2.09801714032956,1.995184726672197 L 2.1950903220161284,1.9807852804032304 L 2.290284677254462,1.956940335732209 L 2.38268343236509,1.9238795325112865 L 2.4713967368259975,1.881921264348355 L 2.5555702330196017,1.8314696123025453 L 2.6343932841636457,1.7730104533627369 L 2.7071067811865475,1.7071067811865477 L 2.7730104533627364,1.634393284163646 L 2.8314696123025453,1.5555702330196022 L 2.881921264348355,1.471396736825998 L 2.9238795325112865,1.3826834323650905 L 2.9569403357322086,1.2902846772544625 L 2.9807852804032304,1.1950903220161286 L 2.995184726672197,1.0980171403295604 L 3.0,1.0 L 2.995184726672197,0.9019828596704393 L 2.9807852804032304,0.8049096779838718 L 2.9569403357322086,0.7097153227455377 L 2.923879532511287,0.6173165676349102 L 2.881921264348355,0.5286032631740023 L 2.8314696123025453,0.4444297669803978 L 2.773010453362737,0.3656067158363545 L 2.7071067811865475,0.2928932188134524 L 2.6343932841636457,0.22698954663726312 L 2.555570233019602,0.16853038769745476 L 2.471396736825998,0.11807873565164506 L 2.3826834323650896,0.07612046748871326 L 2.2902846772544625,0.043059664267791065 L 2.1950903220161284,0.01921471959676957 L 2.098017140329561,0.004815273327803182 L 2.0,0.0 L 1.9019828596704393,0.004815273327803071 L 1.8049096779838718,0.01921471959676957 L 1.709715322745538,0.043059664267791065 L 1.6173165676349104,0.07612046748871326 L 1.5286032631740023,0.11807873565164495 L 1.5,0.13522287182617557 L 1.471396736825998,0.11807873565164506 z\" /></g></svg>"
      ],
      "text/plain": [
       "<POLYGON ((1.471 0.118, 1.383 0.076, 1.29 0.043, 1.195 0.019, 1.098 0.005, 1...>"
      ]
     },
     "execution_count": 33,
     "metadata": {},
     "output_type": "execute_result"
    }
   ],
   "source": [
    "#Operação de União\n",
    "circulo_uni = circulo_1.union(circulo_2)\n",
    "circulo_uni"
   ]
  },
  {
   "cell_type": "markdown",
   "id": "9b4d2b16",
   "metadata": {},
   "source": [
    "<h2>2.3 Diferença</h2>"
   ]
  },
  {
   "cell_type": "code",
   "execution_count": 34,
   "id": "a7781282",
   "metadata": {},
   "outputs": [
    {
     "data": {
      "image/svg+xml": [
       "<svg xmlns=\"http://www.w3.org/2000/svg\" xmlns:xlink=\"http://www.w3.org/1999/xlink\" width=\"100.0\" height=\"100.0\" viewBox=\"-0.08 -0.08 1.6600000000000001 2.16\" preserveAspectRatio=\"xMinYMin meet\"><g transform=\"matrix(1,0,0,-1,0,2.0)\"><path fill-rule=\"evenodd\" fill=\"#66cc99\" stroke=\"#555555\" stroke-width=\"0.0432\" opacity=\"0.6\" d=\"M 1.471396736825998,0.11807873565164506 L 1.3826834323650898,0.07612046748871326 L 1.2902846772544623,0.043059664267791065 L 1.1950903220161284,0.01921471959676957 L 1.0980171403295609,0.004815273327803182 L 1.0,0.0 L 0.9019828596704393,0.004815273327803071 L 0.8049096779838718,0.01921471959676957 L 0.7097153227455378,0.043059664267791065 L 0.6173165676349103,0.07612046748871326 L 0.5286032631740023,0.11807873565164495 L 0.44442976698039804,0.16853038769745465 L 0.3656067158363546,0.2269895466372629 L 0.29289321881345254,0.2928932188134524 L 0.226989546637263,0.3656067158363545 L 0.16853038769745465,0.4444297669803978 L 0.11807873565164506,0.5286032631740022 L 0.07612046748871326,0.6173165676349102 L 0.043059664267791176,0.7097153227455376 L 0.01921471959676957,0.8049096779838714 L 0.004815273327803182,0.9019828596704391 L 0.0,0.9999999999999999 L 0.004815273327803071,1.0980171403295607 L 0.01921471959676957,1.1950903220161284 L 0.043059664267791065,1.290284677254462 L 0.07612046748871315,1.3826834323650896 L 0.11807873565164495,1.4713967368259977 L 0.16853038769745454,1.555570233019602 L 0.2269895466372629,1.6343932841636453 L 0.2928932188134523,1.7071067811865475 L 0.36560671583635407,1.7730104533627367 L 0.4444297669803978,1.8314696123025453 L 0.5286032631740021,1.881921264348355 L 0.6173165676349097,1.9238795325112865 L 0.7097153227455375,1.9569403357322088 L 0.8049096779838714,1.9807852804032304 L 0.9019828596704396,1.995184726672197 L 0.9999999999999998,2.0 L 1.09801714032956,1.995184726672197 L 1.1950903220161284,1.9807852804032304 L 1.290284677254462,1.956940335732209 L 1.38268343236509,1.9238795325112865 L 1.4713967368259975,1.881921264348355 L 1.4999999999999998,1.8647771281738243 L 1.4444297669803978,1.8314696123025453 L 1.365606715836354,1.7730104533627367 L 1.2928932188134523,1.7071067811865475 L 1.226989546637263,1.6343932841636453 L 1.1685303876974547,1.555570233019602 L 1.118078735651645,1.4713967368259977 L 1.076120467488713,1.3826834323650896 L 1.043059664267791,1.290284677254462 L 1.0192147195967696,1.1950903220161284 L 1.004815273327803,1.0980171403295607 L 1.0,0.9999999999999999 L 1.0048152733278033,0.9019828596704391 L 1.0192147195967696,0.8049096779838714 L 1.0430596642677912,0.7097153227455376 L 1.0761204674887133,0.6173165676349102 L 1.118078735651645,0.5286032631740022 L 1.1685303876974547,0.4444297669803978 L 1.2269895466372631,0.3656067158363545 L 1.2928932188134525,0.2928932188134524 L 1.3656067158363547,0.2269895466372629 L 1.444429766980398,0.16853038769745465 L 1.5,0.13522287182617557 L 1.471396736825998,0.11807873565164506 z\" /></g></svg>"
      ],
      "text/plain": [
       "<POLYGON ((1.471 0.118, 1.383 0.076, 1.29 0.043, 1.195 0.019, 1.098 0.005, 1...>"
      ]
     },
     "execution_count": 34,
     "metadata": {},
     "output_type": "execute_result"
    }
   ],
   "source": [
    "#Operação de diferença\n",
    "circulo_dif = circulo_1.difference(circulo_2)\n",
    "circulo_dif"
   ]
  },
  {
   "cell_type": "code",
   "execution_count": 35,
   "id": "b9dc2c92",
   "metadata": {},
   "outputs": [
    {
     "data": {
      "image/svg+xml": [
       "<svg xmlns=\"http://www.w3.org/2000/svg\" xmlns:xlink=\"http://www.w3.org/1999/xlink\" width=\"100.0\" height=\"100.0\" viewBox=\"1.4199999999999997 -0.08 1.6600000000000004 2.16\" preserveAspectRatio=\"xMinYMin meet\"><g transform=\"matrix(1,0,0,-1,0,2.0)\"><path fill-rule=\"evenodd\" fill=\"#66cc99\" stroke=\"#555555\" stroke-width=\"0.0432\" opacity=\"0.6\" d=\"M 2.995184726672197,0.9019828596704393 L 2.9807852804032304,0.8049096779838718 L 2.9569403357322086,0.7097153227455377 L 2.923879532511287,0.6173165676349102 L 2.881921264348355,0.5286032631740023 L 2.8314696123025453,0.4444297669803978 L 2.773010453362737,0.3656067158363545 L 2.7071067811865475,0.2928932188134524 L 2.6343932841636457,0.22698954663726312 L 2.555570233019602,0.16853038769745476 L 2.471396736825998,0.11807873565164506 L 2.3826834323650896,0.07612046748871326 L 2.2902846772544625,0.043059664267791065 L 2.1950903220161284,0.01921471959676957 L 2.098017140329561,0.004815273327803182 L 2.0,0.0 L 1.9019828596704393,0.004815273327803071 L 1.8049096779838718,0.01921471959676957 L 1.709715322745538,0.043059664267791065 L 1.6173165676349104,0.07612046748871326 L 1.5286032631740023,0.11807873565164495 L 1.5,0.13522287182617557 L 1.5555702330196022,0.16853038769745476 L 1.6343932841636455,0.22698954663726312 L 1.7071067811865475,0.2928932188134524 L 1.7730104533627369,0.3656067158363545 L 1.8314696123025453,0.4444297669803978 L 1.881921264348355,0.5286032631740023 L 1.9238795325112867,0.6173165676349102 L 1.9569403357322088,0.7097153227455377 L 1.9807852804032304,0.8049096779838718 L 1.995184726672197,0.9019828596704393 L 2.0,1.0 L 1.995184726672197,1.0980171403295604 L 1.9807852804032304,1.1950903220161286 L 1.9569403357322088,1.2902846772544625 L 1.9238795325112865,1.3826834323650905 L 1.881921264348355,1.471396736825998 L 1.8314696123025453,1.5555702330196022 L 1.7730104533627364,1.634393284163646 L 1.7071067811865475,1.7071067811865477 L 1.6343932841636457,1.7730104533627369 L 1.5555702330196017,1.8314696123025453 L 1.4999999999999998,1.8647771281738243 L 1.528603263174002,1.881921264348355 L 1.6173165676349097,1.9238795325112865 L 1.7097153227455375,1.9569403357322088 L 1.8049096779838714,1.9807852804032304 L 1.9019828596704396,1.995184726672197 L 1.9999999999999998,2.0 L 2.09801714032956,1.995184726672197 L 2.1950903220161284,1.9807852804032304 L 2.290284677254462,1.956940335732209 L 2.38268343236509,1.9238795325112865 L 2.4713967368259975,1.881921264348355 L 2.5555702330196017,1.8314696123025453 L 2.6343932841636457,1.7730104533627369 L 2.7071067811865475,1.7071067811865477 L 2.7730104533627364,1.634393284163646 L 2.8314696123025453,1.5555702330196022 L 2.881921264348355,1.471396736825998 L 2.9238795325112865,1.3826834323650905 L 2.9569403357322086,1.2902846772544625 L 2.9807852804032304,1.1950903220161286 L 2.995184726672197,1.0980171403295604 L 3.0,1.0 L 2.995184726672197,0.9019828596704393 z\" /></g></svg>"
      ],
      "text/plain": [
       "<POLYGON ((2.995 0.902, 2.981 0.805, 2.957 0.71, 2.924 0.617, 2.882 0.529, 2...>"
      ]
     },
     "execution_count": 35,
     "metadata": {},
     "output_type": "execute_result"
    }
   ],
   "source": [
    "circulo_dif = circulo_2.difference(circulo_1)\n",
    "circulo_dif"
   ]
  },
  {
   "cell_type": "markdown",
   "id": "87273e2d",
   "metadata": {},
   "source": [
    "<h2>2.4 Diferença Simétrica</h2>"
   ]
  },
  {
   "cell_type": "code",
   "execution_count": 36,
   "id": "bf47cfa4",
   "metadata": {},
   "outputs": [
    {
     "data": {
      "image/svg+xml": [
       "<svg xmlns=\"http://www.w3.org/2000/svg\" xmlns:xlink=\"http://www.w3.org/1999/xlink\" width=\"100.0\" height=\"100.0\" viewBox=\"-0.12 -0.12 3.24 2.24\" preserveAspectRatio=\"xMinYMin meet\"><g transform=\"matrix(1,0,0,-1,0,2.0)\"><g><path fill-rule=\"evenodd\" fill=\"#66cc99\" stroke=\"#555555\" stroke-width=\"0.06480000000000001\" opacity=\"0.6\" d=\"M 1.5555702330196022,0.16853038769745476 L 1.6343932841636455,0.22698954663726312 L 1.7071067811865475,0.2928932188134524 L 1.7730104533627369,0.3656067158363545 L 1.8314696123025453,0.4444297669803978 L 1.881921264348355,0.5286032631740023 L 1.9238795325112867,0.6173165676349102 L 1.9569403357322088,0.7097153227455377 L 1.9807852804032304,0.8049096779838718 L 1.995184726672197,0.9019828596704393 L 2.0,1.0 L 1.995184726672197,1.0980171403295604 L 1.9807852804032304,1.1950903220161286 L 1.9569403357322088,1.2902846772544625 L 1.9238795325112865,1.3826834323650905 L 1.881921264348355,1.471396736825998 L 1.8314696123025453,1.5555702330196022 L 1.7730104533627364,1.634393284163646 L 1.7071067811865475,1.7071067811865477 L 1.6343932841636457,1.7730104533627369 L 1.5555702330196017,1.8314696123025453 L 1.4999999999999998,1.8647771281738243 L 1.528603263174002,1.881921264348355 L 1.6173165676349097,1.9238795325112865 L 1.7097153227455375,1.9569403357322088 L 1.8049096779838714,1.9807852804032304 L 1.9019828596704396,1.995184726672197 L 1.9999999999999998,2.0 L 2.09801714032956,1.995184726672197 L 2.1950903220161284,1.9807852804032304 L 2.290284677254462,1.956940335732209 L 2.38268343236509,1.9238795325112865 L 2.4713967368259975,1.881921264348355 L 2.5555702330196017,1.8314696123025453 L 2.6343932841636457,1.7730104533627369 L 2.7071067811865475,1.7071067811865477 L 2.7730104533627364,1.634393284163646 L 2.8314696123025453,1.5555702330196022 L 2.881921264348355,1.471396736825998 L 2.9238795325112865,1.3826834323650905 L 2.9569403357322086,1.2902846772544625 L 2.9807852804032304,1.1950903220161286 L 2.995184726672197,1.0980171403295604 L 3.0,1.0 L 2.995184726672197,0.9019828596704393 L 2.9807852804032304,0.8049096779838718 L 2.9569403357322086,0.7097153227455377 L 2.923879532511287,0.6173165676349102 L 2.881921264348355,0.5286032631740023 L 2.8314696123025453,0.4444297669803978 L 2.773010453362737,0.3656067158363545 L 2.7071067811865475,0.2928932188134524 L 2.6343932841636457,0.22698954663726312 L 2.555570233019602,0.16853038769745476 L 2.471396736825998,0.11807873565164506 L 2.3826834323650896,0.07612046748871326 L 2.2902846772544625,0.043059664267791065 L 2.1950903220161284,0.01921471959676957 L 2.098017140329561,0.004815273327803182 L 2.0,0.0 L 1.9019828596704393,0.004815273327803071 L 1.8049096779838718,0.01921471959676957 L 1.709715322745538,0.043059664267791065 L 1.6173165676349104,0.07612046748871326 L 1.5286032631740023,0.11807873565164495 L 1.5,0.13522287182617557 L 1.5555702330196022,0.16853038769745476 z\" /><path fill-rule=\"evenodd\" fill=\"#66cc99\" stroke=\"#555555\" stroke-width=\"0.06480000000000001\" opacity=\"0.6\" d=\"M 1.471396736825998,0.11807873565164506 L 1.3826834323650898,0.07612046748871326 L 1.2902846772544623,0.043059664267791065 L 1.1950903220161284,0.01921471959676957 L 1.0980171403295609,0.004815273327803182 L 1.0,0.0 L 0.9019828596704393,0.004815273327803071 L 0.8049096779838718,0.01921471959676957 L 0.7097153227455378,0.043059664267791065 L 0.6173165676349103,0.07612046748871326 L 0.5286032631740023,0.11807873565164495 L 0.44442976698039804,0.16853038769745465 L 0.3656067158363546,0.2269895466372629 L 0.29289321881345254,0.2928932188134524 L 0.226989546637263,0.3656067158363545 L 0.16853038769745465,0.4444297669803978 L 0.11807873565164506,0.5286032631740022 L 0.07612046748871326,0.6173165676349102 L 0.043059664267791176,0.7097153227455376 L 0.01921471959676957,0.8049096779838714 L 0.004815273327803182,0.9019828596704391 L 0.0,0.9999999999999999 L 0.004815273327803071,1.0980171403295607 L 0.01921471959676957,1.1950903220161284 L 0.043059664267791065,1.290284677254462 L 0.07612046748871315,1.3826834323650896 L 0.11807873565164495,1.4713967368259977 L 0.16853038769745454,1.555570233019602 L 0.2269895466372629,1.6343932841636453 L 0.2928932188134523,1.7071067811865475 L 0.36560671583635407,1.7730104533627367 L 0.4444297669803978,1.8314696123025453 L 0.5286032631740021,1.881921264348355 L 0.6173165676349097,1.9238795325112865 L 0.7097153227455375,1.9569403357322088 L 0.8049096779838714,1.9807852804032304 L 0.9019828596704396,1.995184726672197 L 0.9999999999999998,2.0 L 1.09801714032956,1.995184726672197 L 1.1950903220161284,1.9807852804032304 L 1.290284677254462,1.956940335732209 L 1.38268343236509,1.9238795325112865 L 1.4713967368259975,1.881921264348355 L 1.4999999999999998,1.8647771281738243 L 1.4444297669803978,1.8314696123025453 L 1.365606715836354,1.7730104533627367 L 1.2928932188134523,1.7071067811865475 L 1.226989546637263,1.6343932841636453 L 1.1685303876974547,1.555570233019602 L 1.118078735651645,1.4713967368259977 L 1.076120467488713,1.3826834323650896 L 1.043059664267791,1.290284677254462 L 1.0192147195967696,1.1950903220161284 L 1.004815273327803,1.0980171403295607 L 1.0,0.9999999999999999 L 1.0048152733278033,0.9019828596704391 L 1.0192147195967696,0.8049096779838714 L 1.0430596642677912,0.7097153227455376 L 1.0761204674887133,0.6173165676349102 L 1.118078735651645,0.5286032631740022 L 1.1685303876974547,0.4444297669803978 L 1.2269895466372631,0.3656067158363545 L 1.2928932188134525,0.2928932188134524 L 1.3656067158363547,0.2269895466372629 L 1.444429766980398,0.16853038769745465 L 1.5,0.13522287182617557 L 1.471396736825998,0.11807873565164506 z\" /></g></g></svg>"
      ],
      "text/plain": [
       "<MULTIPOLYGON (((1.556 0.169, 1.634 0.227, 1.707 0.293, 1.773 0.366, 1.831 0...>"
      ]
     },
     "execution_count": 36,
     "metadata": {},
     "output_type": "execute_result"
    }
   ],
   "source": [
    "circulo_dif_sim = circulo_1.symmetric_difference(circulo_2)\n",
    "circulo_dif_sim"
   ]
  }
 ],
 "metadata": {
  "kernelspec": {
   "display_name": "Python 3 (ipykernel)",
   "language": "python",
   "name": "python3"
  },
  "language_info": {
   "codemirror_mode": {
    "name": "ipython",
    "version": 3
   },
   "file_extension": ".py",
   "mimetype": "text/x-python",
   "name": "python",
   "nbconvert_exporter": "python",
   "pygments_lexer": "ipython3",
   "version": "3.10.9"
  }
 },
 "nbformat": 4,
 "nbformat_minor": 5
}
